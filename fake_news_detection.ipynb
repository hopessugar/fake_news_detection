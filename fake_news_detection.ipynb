{
  "nbformat": 4,
  "nbformat_minor": 0,
  "metadata": {
    "colab": {
      "provenance": []
    },
    "kernelspec": {
      "name": "python3",
      "display_name": "Python 3"
    },
    "language_info": {
      "name": "python"
    }
  },
  "cells": [
    {
      "cell_type": "code",
      "execution_count": 2,
      "metadata": {
        "id": "A14gbgA_d32I"
      },
      "outputs": [],
      "source": [
        "import zipfile\n",
        "\n",
        "zip_path = \"/archive (5).zip\"  # Replace with your zip file path\n",
        "extract_to = \"/kaggle\"  # Replace with the directory where you want to extract\n",
        "\n",
        "with zipfile.ZipFile(zip_path, 'r') as zip_ref:\n",
        "    zip_ref.extractall(extract_to)"
      ]
    },
    {
      "cell_type": "code",
      "source": [
        "import pandas as pd\n",
        "import numpy as np\n",
        "import re\n",
        "import nltk\n",
        "from nltk.corpus import stopwords\n",
        "from nltk.tokenize import word_tokenize\n",
        "from nltk.stem import WordNetLemmatizer\n",
        "from sklearn.model_selection import train_test_split\n",
        "from sklearn.feature_extraction.text import TfidfVectorizer\n",
        "from sklearn.ensemble import RandomForestClassifier\n",
        "from sklearn.metrics import classification_report, confusion_matrix\n",
        "from sklearn.pipeline import Pipeline\n",
        "from textblob import TextBlob\n",
        "import matplotlib.pyplot as plt\n",
        "import seaborn as sns"
      ],
      "metadata": {
        "id": "2UUIpRfQfsnA"
      },
      "execution_count": 3,
      "outputs": []
    },
    {
      "cell_type": "code",
      "source": [
        "# Download required NLTK resources\n",
        "nltk.download('punkt')\n",
        "nltk.download('stopwords')\n",
        "nltk.download('wordnet')\n"
      ],
      "metadata": {
        "colab": {
          "base_uri": "https://localhost:8080/"
        },
        "id": "l-IGeEw_fviK",
        "outputId": "a703bb15-7147-4257-804e-ee25e3375b96"
      },
      "execution_count": 4,
      "outputs": [
        {
          "output_type": "stream",
          "name": "stderr",
          "text": [
            "[nltk_data] Downloading package punkt to /root/nltk_data...\n",
            "[nltk_data]   Unzipping tokenizers/punkt.zip.\n",
            "[nltk_data] Downloading package stopwords to /root/nltk_data...\n",
            "[nltk_data]   Unzipping corpora/stopwords.zip.\n",
            "[nltk_data] Downloading package wordnet to /root/nltk_data...\n"
          ]
        },
        {
          "output_type": "execute_result",
          "data": {
            "text/plain": [
              "True"
            ]
          },
          "metadata": {},
          "execution_count": 4
        }
      ]
    },
    {
      "cell_type": "code",
      "source": [
        "!pip install nltk\n",
        "import nltk\n",
        "\n",
        "# Download required NLTK resources\n",
        "nltk.download('punkt')\n",
        "nltk.download('stopwords')\n",
        "nltk.download('wordnet')\n",
        "# Download 'punkt_tab'\n",
        "nltk.download('punkt_tab')"
      ],
      "metadata": {
        "colab": {
          "base_uri": "https://localhost:8080/"
        },
        "id": "dpjgfWMHhD6r",
        "outputId": "23ce6839-e6ab-4a91-feac-ba7ee9efe8fb"
      },
      "execution_count": 15,
      "outputs": [
        {
          "output_type": "stream",
          "name": "stdout",
          "text": [
            "Requirement already satisfied: nltk in /usr/local/lib/python3.11/dist-packages (3.9.1)\n",
            "Requirement already satisfied: click in /usr/local/lib/python3.11/dist-packages (from nltk) (8.1.8)\n",
            "Requirement already satisfied: joblib in /usr/local/lib/python3.11/dist-packages (from nltk) (1.4.2)\n",
            "Requirement already satisfied: regex>=2021.8.3 in /usr/local/lib/python3.11/dist-packages (from nltk) (2024.11.6)\n",
            "Requirement already satisfied: tqdm in /usr/local/lib/python3.11/dist-packages (from nltk) (4.67.1)\n"
          ]
        },
        {
          "output_type": "stream",
          "name": "stderr",
          "text": [
            "[nltk_data] Downloading package punkt to /root/nltk_data...\n",
            "[nltk_data]   Package punkt is already up-to-date!\n",
            "[nltk_data] Downloading package stopwords to /root/nltk_data...\n",
            "[nltk_data]   Package stopwords is already up-to-date!\n",
            "[nltk_data] Downloading package wordnet to /root/nltk_data...\n",
            "[nltk_data]   Package wordnet is already up-to-date!\n",
            "[nltk_data] Downloading package punkt_tab to /root/nltk_data...\n",
            "[nltk_data]   Unzipping tokenizers/punkt_tab.zip.\n"
          ]
        },
        {
          "output_type": "execute_result",
          "data": {
            "text/plain": [
              "True"
            ]
          },
          "metadata": {},
          "execution_count": 15
        }
      ]
    },
    {
      "cell_type": "code",
      "source": [
        "# Text preprocessing function\n",
        "def preprocess_text(text):\n",
        "    if isinstance(text, str):\n",
        "        # Convert to lowercase\n",
        "        text = text.lower()\n",
        "        # Remove special characters and numbers\n",
        "        text = re.sub(r'[^\\w\\s]', '', text)\n",
        "        text = re.sub(r'\\d+', '', text)\n",
        "        # Tokenize the text\n",
        "        tokens = word_tokenize(text)\n",
        "        # Remove stopwords\n",
        "        stop_words = set(stopwords.words('english'))\n",
        "        tokens = [word for word in tokens if word not in stop_words]\n",
        "        # Lemmatization\n",
        "        lemmatizer = WordNetLemmatizer()\n",
        "        tokens = [lemmatizer.lemmatize(word) for word in tokens]\n",
        "        # Join tokens back into text\n",
        "        return ' '.join(tokens)\n",
        "    return ''\n"
      ],
      "metadata": {
        "id": "gKLntx6lf22b"
      },
      "execution_count": 5,
      "outputs": []
    },
    {
      "cell_type": "code",
      "source": [
        "def extract_sentiment_features(text):\n",
        "    if isinstance(text, str):\n",
        "        blob = TextBlob(text)\n",
        "        return {\n",
        "            'polarity': blob.sentiment.polarity,\n",
        "            'subjectivity': blob.sentiment.subjectivity\n",
        "        }\n",
        "    return {'polarity': 0, 'subjectivity': 0}"
      ],
      "metadata": {
        "id": "_z7BmrMDf83X"
      },
      "execution_count": 6,
      "outputs": []
    },
    {
      "cell_type": "code",
      "source": [
        "def load_data():\n",
        "    # Simulating a dataset for demonstration\n",
        "    # In a real scenario, you would load your own dataset\n",
        "    print(\"Loading and preparing the dataset...\")\n",
        "\n",
        "    # Simulated data\n",
        "    data = {\n",
        "        'title': [\n",
        "            \"Scientists discover revolutionary cancer treatment\",\n",
        "            \"BREAKING: President caught in massive scandal\",\n",
        "            \"New study shows benefits of regular exercise\",\n",
        "            \"SHOCKING: Famous celebrity reveals alien encounter\",\n",
        "            \"Local community opens new public library\"\n",
        "        ],\n",
        "        'content': [\n",
        "            \"A team of researchers has published peer-reviewed findings about a new approach to treating specific types of cancer. Clinical trials show promising results with minimal side effects.\",\n",
        "            \"Anonymous sources claim the President has been involved in corruption. No evidence has been provided and officials deny all allegations.\",\n",
        "            \"Research published in the Journal of Health indicates that 30 minutes of daily exercise can significantly reduce the risk of heart disease and improve mental health.\",\n",
        "            \"A celebrity claims to have been abducted by aliens last night. No witnesses have confirmed the story and scientists remain skeptical.\",\n",
        "            \"The new public library features over 10,000 books and provides free internet access to community members. The mayor attended the ribbon-cutting ceremony.\"\n",
        "        ],\n",
        "        'label': [0, 1, 0, 1, 0]  # 0 = real, 1 = fake\n",
        "    }\n",
        "\n",
        "    return pd.DataFrame(data)"
      ],
      "metadata": {
        "id": "l0bMmuOxgBD7"
      },
      "execution_count": 7,
      "outputs": []
    },
    {
      "cell_type": "code",
      "source": [
        "# Main function to train and evaluate the model\n",
        "def fake_news_detector():\n",
        "    # Load data\n",
        "    df = load_data()\n",
        "\n",
        "    # Preprocess text\n",
        "    print(\"Preprocessing text...\")\n",
        "    df['processed_text'] = df['title'] + ' ' + df['content']\n",
        "    df['processed_text'] = df['processed_text'].apply(preprocess_text)\n",
        "\n",
        "    # Extract sentiment features\n",
        "    print(\"Extracting sentiment features...\")\n",
        "    sentiment_features = df['processed_text'].apply(extract_sentiment_features)\n",
        "    df['polarity'] = sentiment_features.apply(lambda x: x['polarity'])\n",
        "    df['subjectivity'] = sentiment_features.apply(lambda x: x['subjectivity'])\n",
        "\n",
        "    # Split data\n",
        "    X = df[['processed_text', 'polarity', 'subjectivity']]\n",
        "    y = df['label']\n",
        "    X_train, X_test, y_train, y_test = train_test_split(X, y, test_size=0.2, random_state=42)\n",
        "\n",
        "    # Create feature matrix\n",
        "    print(\"Creating feature matrix...\")\n",
        "    # TF-IDF for text features\n",
        "    tfidf = TfidfVectorizer(max_features=5000)\n",
        "    text_features_train = tfidf.fit_transform(X_train['processed_text'])\n",
        "    text_features_test = tfidf.transform(X_test['processed_text'])\n",
        "\n",
        "    # Combine with sentiment features\n",
        "    sentiment_train = X_train[['polarity', 'subjectivity']].values\n",
        "    sentiment_test = X_test[['polarity', 'subjectivity']].values\n",
        "\n",
        "    # Create combined feature matrix\n",
        "    X_train_combined = np.hstack((text_features_train.toarray(), sentiment_train))\n",
        "    X_test_combined = np.hstack((text_features_test.toarray(), sentiment_test))\n",
        "\n",
        "    # Train model\n",
        "    print(\"Training the model...\")\n",
        "    model = RandomForestClassifier(n_estimators=100, random_state=42)\n",
        "    model.fit(X_train_combined, y_train)\n",
        "\n",
        "    # Evaluate model\n",
        "    print(\"Evaluating the model...\")\n",
        "    y_pred = model.predict(X_test_combined)\n",
        "    print(\"\\nClassification Report:\")\n",
        "    print(classification_report(y_test, y_pred))\n",
        "\n",
        "    # Plot confusion matrix\n",
        "    cm = confusion_matrix(y_test, y_pred)\n",
        "    plt.figure(figsize=(8, 6))\n",
        "    sns.heatmap(cm, annot=True, fmt='d', cmap='Blues')\n",
        "    plt.title('Confusion Matrix')\n",
        "    plt.ylabel('True Label')\n",
        "    plt.xlabel('Predicted Label')\n",
        "    plt.show()\n",
        "\n",
        "    # Feature importance analysis\n",
        "    feature_names = list(tfidf.get_feature_names_out()) + ['polarity', 'subjectivity']\n",
        "    feature_importance = model.feature_importances_\n",
        "\n",
        "    # Get top 10 features\n",
        "    top_features_idx = np.argsort(feature_importance)[-10:]\n",
        "    top_features = [feature_names[i] for i in top_features_idx]\n",
        "    top_importance = [feature_importance[i] for i in top_features_idx]\n",
        "\n",
        "    plt.figure(figsize=(10, 6))\n",
        "    plt.barh(top_features, top_importance)\n",
        "    plt.title('Top 10 Feature Importance')\n",
        "    plt.xlabel('Importance')\n",
        "    plt.ylabel('Feature')\n",
        "    plt.tight_layout()\n",
        "    plt.show()\n",
        "\n",
        "    return model, tfidf\n"
      ],
      "metadata": {
        "id": "0uIM5zwcgM_4"
      },
      "execution_count": 12,
      "outputs": []
    },
    {
      "cell_type": "code",
      "source": [
        "# Function to predict on new articles\n",
        "def predict_news(model, tfidf, title, content):\n",
        "    # Preprocess\n",
        "    text = preprocess_text(title + ' ' + content)\n",
        "\n",
        "    # Extract sentiment features\n",
        "    sentiment = extract_sentiment_features(text)\n",
        "\n",
        "    # Create feature vector\n",
        "    text_features = tfidf.transform([text]).toarray()\n",
        "    sentiment_features = np.array([[sentiment['polarity'], sentiment['subjectivity']]])\n",
        "    combined_features = np.hstack((text_features, sentiment_features))\n",
        "\n",
        "    # Make prediction\n",
        "    prediction = model.predict(combined_features)[0]\n",
        "    probability = model.predict_proba(combined_features)[0]\n",
        "\n",
        "    result = \"FAKE\" if prediction == 1 else \"REAL\"\n",
        "    confidence = probability[1] if prediction == 1 else probability[0]\n",
        "\n",
        "    print(f\"Prediction: {result} (Confidence: {confidence:.2f})\")\n",
        "    print(f\"Sentiment Analysis: Polarity = {sentiment['polarity']:.2f}, Subjectivity = {sentiment['subjectivity']:.2f}\")\n",
        "\n",
        "    return result, confidence, sentiment\n"
      ],
      "metadata": {
        "id": "JV8GxfOWgXPK"
      },
      "execution_count": 13,
      "outputs": []
    },
    {
      "cell_type": "code",
      "source": [
        "# Main execution\n",
        "if __name__ == \"__main__\":\n",
        "    print(\"Fake News Detection System using Sentiment Analysis\")\n",
        "    print(\"=\"*50)\n",
        "\n",
        "    # Train model\n",
        "    model, tfidf = fake_news_detector()\n",
        "\n",
        "    # Example usage\n",
        "    print(\"\\nTesting with sample news articles:\")\n",
        "\n",
        "    # Example 1: Likely real news\n",
        "    title1 = \"New study confirms effectiveness of COVID-19 vaccines\"\n",
        "    content1 = \"Research published in medical journals shows that vaccines are effective at preventing severe illness. The study involved 10,000 participants across multiple countries.\"\n",
        "    print(\"\\nExample 1:\")\n",
        "    predict_news(model, tfidf, title1, content1)\n",
        "\n",
        "    # Example 2: Likely fake news\n",
        "    title2 = \"SHOCKING: Government hiding alien technology in secret facility\"\n",
        "    content2 = \"Insider reveals that the government has been hiding alien technology for decades. The source claims that world-changing inventions are being suppressed to maintain control over the population.\"\n",
        "    print(\"\\nExample 2:\")\n",
        "    predict_news(model, tfidf, title2, content2)"
      ],
      "metadata": {
        "colab": {
          "base_uri": "https://localhost:8080/",
          "height": 1000
        },
        "id": "smxr-JTxg_B-",
        "outputId": "1fb011ae-ec62-48f5-9be6-55f83e353d41"
      },
      "execution_count": 16,
      "outputs": [
        {
          "output_type": "stream",
          "name": "stdout",
          "text": [
            "Fake News Detection System using Sentiment Analysis\n",
            "==================================================\n",
            "Loading and preparing the dataset...\n",
            "Preprocessing text...\n",
            "Extracting sentiment features...\n",
            "Creating feature matrix...\n",
            "Training the model...\n",
            "Evaluating the model...\n",
            "\n",
            "Classification Report:\n",
            "              precision    recall  f1-score   support\n",
            "\n",
            "           0       0.00      0.00      0.00       0.0\n",
            "           1       0.00      0.00      0.00       1.0\n",
            "\n",
            "    accuracy                           0.00       1.0\n",
            "   macro avg       0.00      0.00      0.00       1.0\n",
            "weighted avg       0.00      0.00      0.00       1.0\n",
            "\n"
          ]
        },
        {
          "output_type": "stream",
          "name": "stderr",
          "text": [
            "/usr/local/lib/python3.11/dist-packages/sklearn/metrics/_classification.py:1565: UndefinedMetricWarning: Precision is ill-defined and being set to 0.0 in labels with no predicted samples. Use `zero_division` parameter to control this behavior.\n",
            "  _warn_prf(average, modifier, f\"{metric.capitalize()} is\", len(result))\n",
            "/usr/local/lib/python3.11/dist-packages/sklearn/metrics/_classification.py:1565: UndefinedMetricWarning: Recall is ill-defined and being set to 0.0 in labels with no true samples. Use `zero_division` parameter to control this behavior.\n",
            "  _warn_prf(average, modifier, f\"{metric.capitalize()} is\", len(result))\n",
            "/usr/local/lib/python3.11/dist-packages/sklearn/metrics/_classification.py:1565: UndefinedMetricWarning: Precision is ill-defined and being set to 0.0 in labels with no predicted samples. Use `zero_division` parameter to control this behavior.\n",
            "  _warn_prf(average, modifier, f\"{metric.capitalize()} is\", len(result))\n",
            "/usr/local/lib/python3.11/dist-packages/sklearn/metrics/_classification.py:1565: UndefinedMetricWarning: Recall is ill-defined and being set to 0.0 in labels with no true samples. Use `zero_division` parameter to control this behavior.\n",
            "  _warn_prf(average, modifier, f\"{metric.capitalize()} is\", len(result))\n",
            "/usr/local/lib/python3.11/dist-packages/sklearn/metrics/_classification.py:1565: UndefinedMetricWarning: Precision is ill-defined and being set to 0.0 in labels with no predicted samples. Use `zero_division` parameter to control this behavior.\n",
            "  _warn_prf(average, modifier, f\"{metric.capitalize()} is\", len(result))\n",
            "/usr/local/lib/python3.11/dist-packages/sklearn/metrics/_classification.py:1565: UndefinedMetricWarning: Recall is ill-defined and being set to 0.0 in labels with no true samples. Use `zero_division` parameter to control this behavior.\n",
            "  _warn_prf(average, modifier, f\"{metric.capitalize()} is\", len(result))\n"
          ]
        },
        {
          "output_type": "display_data",
          "data": {
            "text/plain": [
              "<Figure size 800x600 with 2 Axes>"
            ],
            "image/png": "[encoded data removed]"
          },
          "metadata": {}
        },
        {
          "output_type": "display_data",
          "data": {
            "text/plain": [
              "<Figure size 1000x600 with 1 Axes>"
            ],
            "image/png": "[encoded data removed]"
          },
          "metadata": {}
        },
        {
          "output_type": "stream",
          "name": "stdout",
          "text": [
            "\n",
            "Testing with sample news articles:\n",
            "\n",
            "Example 1:\n",
            "Prediction: REAL (Confidence: 0.88)\n",
            "Sentiment Analysis: Polarity = 0.18, Subjectivity = 0.31\n",
            "\n",
            "Example 2:\n",
            "Prediction: REAL (Confidence: 0.67)\n",
            "Sentiment Analysis: Polarity = -0.47, Subjectivity = 0.80\n"
          ]
        }
      ]
    },
    {
      "cell_type": "code",
      "source": [],
      "metadata": {
        "id": "JmZQGwARj9Uj"
      },
      "execution_count": null,
      "outputs": []
    }
  ]
}